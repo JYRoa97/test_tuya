{
 "cells": [
  {
   "cell_type": "code",
   "execution_count": 2,
   "metadata": {},
   "outputs": [],
   "source": [
    "import numpy as np\n",
    "import pandas as pd\n",
    "import matplotlib.pyplot as plt\n",
    "from sklearn.decomposition import PCA\n",
    "from sklearn.preprocessing import StandardScaler, OneHotEncoder\n",
    "from sklearn.cluster import KMeans\n",
    "from sklearn.metrics import silhouette_score\n",
    "from sklearn.compose import ColumnTransformer\n"
   ]
  },
  {
   "cell_type": "code",
   "execution_count": 3,
   "metadata": {},
   "outputs": [],
   "source": [
    "data_set = pd.read_excel('Data/Segmentacion_CATT.xlsx',sheet_name=0).fillna(0)"
   ]
  },
  {
   "cell_type": "code",
   "execution_count": 4,
   "metadata": {},
   "outputs": [
    {
     "name": "stdout",
     "output_type": "stream",
     "text": [
      "<class 'pandas.core.frame.DataFrame'>\n",
      "RangeIndex: 144 entries, 0 to 143\n",
      "Data columns (total 15 columns):\n",
      " #   Column                      Non-Null Count  Dtype  \n",
      "---  ------                      --------------  -----  \n",
      " 0   negocio                     144 non-null    object \n",
      " 1   region                      144 non-null    object \n",
      " 2   canal                       144 non-null    int64  \n",
      " 3   capturas_tarjetas           144 non-null    float64\n",
      " 4   aprobacion_tarjetas         144 non-null    float64\n",
      " 5   tarjetas                    144 non-null    float64\n",
      " 6   capturas_creditos           144 non-null    float64\n",
      " 7   aprobacion_creditos         144 non-null    float64\n",
      " 8   cantidad_creditos           144 non-null    float64\n",
      " 9   monto_creditos              144 non-null    float64\n",
      " 10  seguros                     144 non-null    float64\n",
      " 11  trafico_transaccional       144 non-null    float64\n",
      " 12  trafico_clientes            144 non-null    float64\n",
      " 13  aprovechamiento_de_trafico  144 non-null    float64\n",
      " 14  contribucion                144 non-null    float64\n",
      "dtypes: float64(12), int64(1), object(2)\n",
      "memory usage: 17.0+ KB\n"
     ]
    }
   ],
   "source": [
    "data_set.info()"
   ]
  },
  {
   "cell_type": "code",
   "execution_count": 10,
   "metadata": {},
   "outputs": [
    {
     "data": {
      "text/plain": [
       "141"
      ]
     },
     "execution_count": 10,
     "metadata": {},
     "output_type": "execute_result"
    }
   ],
   "source": [
    "len(data_set.canal.unique())"
   ]
  },
  {
   "cell_type": "code",
   "execution_count": 44,
   "metadata": {},
   "outputs": [
    {
     "data": {
      "text/plain": [
       "Index(['negocio', 'region', 'canal', 'capturas_tarjetas',\n",
       "       'aprobacion_tarjetas', 'tarjetas', 'capturas_creditos',\n",
       "       'aprobacion_creditos', 'cantidad_creditos', 'monto_creditos', 'seguros',\n",
       "       'trafico_transaccional', 'trafico_clientes',\n",
       "       'aprovechamiento_de_trafico', 'contribucion'],\n",
       "      dtype='object')"
      ]
     },
     "execution_count": 44,
     "metadata": {},
     "output_type": "execute_result"
    }
   ],
   "source": [
    "data_set.columns"
   ]
  },
  {
   "cell_type": "code",
   "execution_count": 45,
   "metadata": {},
   "outputs": [],
   "source": [
    "data_set = data_set[[\n",
    "    'canal','capturas_tarjetas',\n",
    "       'aprobacion_tarjetas', 'tarjetas', 'capturas_creditos',\n",
    "       'aprobacion_creditos', 'cantidad_creditos', 'monto_creditos', 'seguros',\n",
    "       'trafico_transaccional', 'trafico_clientes',\n",
    "       'aprovechamiento_de_trafico', 'contribucion'\n",
    "]]"
   ]
  },
  {
   "cell_type": "code",
   "execution_count": 46,
   "metadata": {},
   "outputs": [],
   "source": [
    "# Seleccionar columnas numéricas y la categórica 'region'\n",
    "features_numeric = [\n",
    "    'capturas_tarjetas',\n",
    "       'aprobacion_tarjetas', 'tarjetas', 'capturas_creditos',\n",
    "       'aprobacion_creditos', 'cantidad_creditos', 'monto_creditos', 'seguros',\n",
    "       'trafico_transaccional', 'trafico_clientes',\n",
    "       'aprovechamiento_de_trafico', 'contribucion'\n",
    "]\n",
    "features_categorical = ['canal']\n",
    "\n",
    "# Construir un preprocesador: escalado para numéricos, OneHot para categóricos\n",
    "preprocessor = ColumnTransformer(transformers=[\n",
    "    ('num', StandardScaler(), features_numeric),\n",
    "    ('cat', OneHotEncoder(sparse_output=False, drop='first'), features_categorical)\n",
    "])"
   ]
  },
  {
   "cell_type": "markdown",
   "metadata": {},
   "source": [
    "## Clustering"
   ]
  },
  {
   "cell_type": "markdown",
   "metadata": {},
   "source": [
    "### Usare dos metodos para obtener el numero de clusteres optimos"
   ]
  },
  {
   "cell_type": "markdown",
   "metadata": {},
   "source": [
    "#### Método silhouette:\n",
    "Conclusión: El mejor valor de 𝐾 es 3 clusters, ya que tiene el mayor silhouette score (0.2505), lo que sugiere una segmentación razonablemente bien definida."
   ]
  },
  {
   "cell_type": "code",
   "execution_count": 47,
   "metadata": {},
   "outputs": [
    {
     "data": {
      "text/plain": [
       "[(2, np.float64(0.2371558183110123)),\n",
       " (3, np.float64(0.2505805289319891)),\n",
       " (4, np.float64(0.23754309427377482)),\n",
       " (5, np.float64(0.24312576542400283)),\n",
       " (6, np.float64(0.2476618455085483)),\n",
       " (7, np.float64(0.232190967668337)),\n",
       " (8, np.float64(0.2044337079819742)),\n",
       " (9, np.float64(0.215820746431835)),\n",
       " (10, np.float64(0.21807174834123955))]"
      ]
     },
     "execution_count": 47,
     "metadata": {},
     "output_type": "execute_result"
    }
   ],
   "source": [
    "X_processed = preprocessor.fit_transform(data_set)\n",
    "silhouette_scores = []\n",
    "for k in range(2, 11):\n",
    "    kmeans = KMeans(n_clusters=k, random_state=42)\n",
    "    labels = kmeans.fit_predict(X_processed)\n",
    "    score = silhouette_score(X_processed, labels)\n",
    "    silhouette_scores.append((k, score))\n",
    "\n",
    "silhouette_scores"
   ]
  },
  {
   "cell_type": "markdown",
   "metadata": {},
   "source": [
    "#### Método Codo\n",
    "Conclusión: Confirma lo anterior el mejor K = 3 el más óptimo. "
   ]
  },
  {
   "cell_type": "code",
   "execution_count": 18,
   "metadata": {},
   "outputs": [],
   "source": [
    "randonseed = 20"
   ]
  },
  {
   "cell_type": "code",
   "execution_count": 19,
   "metadata": {},
   "outputs": [
    {
     "data": {
      "text/plain": [
       "Text(0, 0.5, 'd[Inertia]')"
      ]
     },
     "execution_count": 19,
     "metadata": {},
     "output_type": "execute_result"
    },
    {
     "data": {
      "image/png": "[encoded data removed]",
      "text/plain": [
       "<Figure size 640x480 with 2 Axes>"
      ]
     },
     "metadata": {},
     "output_type": "display_data"
    }
   ],
   "source": [
    "clusters = range(1, 10, 1)\n",
    "inertias = []\n",
    "\n",
    "X = StandardScaler().fit_transform(data_set)\n",
    "\n",
    "for n in clusters:\n",
    "    k = KMeans(n_clusters=n, random_state=randonseed)\n",
    "    k.fit(X)\n",
    "    inertias.append(k.inertia_)\n",
    "    \n",
    "fig, (ax1, ax2) = plt.subplots(2, sharex=True)\n",
    "\n",
    "ax1.plot(clusters, inertias, '-o')\n",
    "ax2.plot(clusters[:-1], np.diff(inertias), '-o')\n",
    "\n",
    "ax2.set_xlabel('Number of clusters')\n",
    "ax1.set_ylabel('Inertia')\n",
    "ax2.set_ylabel('d[Inertia]')"
   ]
  },
  {
   "cell_type": "markdown",
   "metadata": {},
   "source": [
    "### Modelo Kmeans "
   ]
  },
  {
   "cell_type": "code",
   "execution_count": 20,
   "metadata": {},
   "outputs": [
    {
     "data": {
      "text/plain": [
       "cluster\n",
       "0    75\n",
       "1    40\n",
       "2    29\n",
       "Name: count, dtype: int64"
      ]
     },
     "execution_count": 20,
     "metadata": {},
     "output_type": "execute_result"
    }
   ],
   "source": [
    "X =StandardScaler().fit_transform(data_set)\n",
    "num_clusters = 3\n",
    "k = KMeans(n_clusters=num_clusters, random_state=randonseed)\n",
    "k.fit(X)\n",
    "y = k.predict(X)\n",
    "#Reduccion de componentes\n",
    "pca = PCA(n_components=num_clusters,random_state=randonseed).fit(X)\n",
    "\n",
    "X_ = pca.transform(X)\n",
    "\n",
    "dataset = data_set.assign(\n",
    "    cluster=y\n",
    ")\n",
    "dataset['cluster'].value_counts()"
   ]
  },
  {
   "cell_type": "code",
   "execution_count": 21,
   "metadata": {},
   "outputs": [
    {
     "data": {
      "image/png": "[encoded data removed]",
      "text/plain": [
       "<Figure size 640x480 with 1 Axes>"
      ]
     },
     "metadata": {},
     "output_type": "display_data"
    }
   ],
   "source": [
    "componente_x = min(0, num_clusters - 1)\n",
    "componente_y = min(1, num_clusters - 1)\n",
    "\n",
    "fig, ax = plt.subplots()\n",
    "\n",
    "for cluster, group in dataset.groupby('cluster'):\n",
    "    ax.scatter(\n",
    "        X_[group.index, componente_x], \n",
    "        X_[group.index, componente_y], \n",
    "        #c=y, \n",
    "        edgecolor='red', \n",
    "        label=cluster,\n",
    "        lw=0.5, \n",
    "        alpha=1\n",
    "    )\n",
    "\n",
    "ax.set_xlabel('Principal Component '+str(componente_x))\n",
    "ax.set_ylabel('Principal Component '+str(componente_y))\n",
    "\n",
    "ax.legend()\n",
    "plt.show()"
   ]
  },
  {
   "cell_type": "code",
   "execution_count": 22,
   "metadata": {},
   "outputs": [
    {
     "data": {
      "text/html": [
       "<div>\n",
       "<style scoped>\n",
       "    .dataframe tbody tr th:only-of-type {\n",
       "        vertical-align: middle;\n",
       "    }\n",
       "\n",
       "    .dataframe tbody tr th {\n",
       "        vertical-align: top;\n",
       "    }\n",
       "\n",
       "    .dataframe thead th {\n",
       "        text-align: right;\n",
       "    }\n",
       "</style>\n",
       "<table border=\"1\" class=\"dataframe\">\n",
       "  <thead>\n",
       "    <tr style=\"text-align: right;\">\n",
       "      <th>cluster</th>\n",
       "      <th>0</th>\n",
       "      <th>1</th>\n",
       "      <th>2</th>\n",
       "    </tr>\n",
       "  </thead>\n",
       "  <tbody>\n",
       "    <tr>\n",
       "      <th>canal</th>\n",
       "      <td>410433.186667</td>\n",
       "      <td>5.005003e+07</td>\n",
       "      <td>364765.586207</td>\n",
       "    </tr>\n",
       "    <tr>\n",
       "      <th>capturas_tarjetas</th>\n",
       "      <td>295.713333</td>\n",
       "      <td>8.292875e+02</td>\n",
       "      <td>841.905172</td>\n",
       "    </tr>\n",
       "    <tr>\n",
       "      <th>aprobacion_tarjetas</th>\n",
       "      <td>0.212435</td>\n",
       "      <td>1.916680e-01</td>\n",
       "      <td>0.226356</td>\n",
       "    </tr>\n",
       "    <tr>\n",
       "      <th>tarjetas</th>\n",
       "      <td>55.650000</td>\n",
       "      <td>1.656750e+02</td>\n",
       "      <td>172.198276</td>\n",
       "    </tr>\n",
       "    <tr>\n",
       "      <th>capturas_creditos</th>\n",
       "      <td>104.350000</td>\n",
       "      <td>6.250000e-03</td>\n",
       "      <td>289.318966</td>\n",
       "    </tr>\n",
       "    <tr>\n",
       "      <th>aprobacion_creditos</th>\n",
       "      <td>0.029739</td>\n",
       "      <td>0.000000e+00</td>\n",
       "      <td>0.038821</td>\n",
       "    </tr>\n",
       "    <tr>\n",
       "      <th>cantidad_creditos</th>\n",
       "      <td>8.113333</td>\n",
       "      <td>0.000000e+00</td>\n",
       "      <td>29.344828</td>\n",
       "    </tr>\n",
       "    <tr>\n",
       "      <th>monto_creditos</th>\n",
       "      <td>21.424917</td>\n",
       "      <td>0.000000e+00</td>\n",
       "      <td>80.162884</td>\n",
       "    </tr>\n",
       "    <tr>\n",
       "      <th>seguros</th>\n",
       "      <td>53.510000</td>\n",
       "      <td>0.000000e+00</td>\n",
       "      <td>177.172414</td>\n",
       "    </tr>\n",
       "    <tr>\n",
       "      <th>trafico_transaccional</th>\n",
       "      <td>69821.090000</td>\n",
       "      <td>0.000000e+00</td>\n",
       "      <td>108025.965517</td>\n",
       "    </tr>\n",
       "    <tr>\n",
       "      <th>trafico_clientes</th>\n",
       "      <td>43083.736667</td>\n",
       "      <td>0.000000e+00</td>\n",
       "      <td>66770.172414</td>\n",
       "    </tr>\n",
       "    <tr>\n",
       "      <th>aprovechamiento_de_trafico</th>\n",
       "      <td>0.013282</td>\n",
       "      <td>0.000000e+00</td>\n",
       "      <td>0.019541</td>\n",
       "    </tr>\n",
       "    <tr>\n",
       "      <th>contribucion</th>\n",
       "      <td>576.945481</td>\n",
       "      <td>1.143214e+03</td>\n",
       "      <td>1499.063863</td>\n",
       "    </tr>\n",
       "  </tbody>\n",
       "</table>\n",
       "</div>"
      ],
      "text/plain": [
       "cluster                                 0             1              2\n",
       "canal                       410433.186667  5.005003e+07  364765.586207\n",
       "capturas_tarjetas              295.713333  8.292875e+02     841.905172\n",
       "aprobacion_tarjetas              0.212435  1.916680e-01       0.226356\n",
       "tarjetas                        55.650000  1.656750e+02     172.198276\n",
       "capturas_creditos              104.350000  6.250000e-03     289.318966\n",
       "aprobacion_creditos              0.029739  0.000000e+00       0.038821\n",
       "cantidad_creditos                8.113333  0.000000e+00      29.344828\n",
       "monto_creditos                  21.424917  0.000000e+00      80.162884\n",
       "seguros                         53.510000  0.000000e+00     177.172414\n",
       "trafico_transaccional        69821.090000  0.000000e+00  108025.965517\n",
       "trafico_clientes             43083.736667  0.000000e+00   66770.172414\n",
       "aprovechamiento_de_trafico       0.013282  0.000000e+00       0.019541\n",
       "contribucion                   576.945481  1.143214e+03    1499.063863"
      ]
     },
     "execution_count": 22,
     "metadata": {},
     "output_type": "execute_result"
    }
   ],
   "source": [
    "pd.set_option('display.max_rows', 120)\n",
    "df_clusters = dataset.groupby(\n",
    "    by='cluster'\n",
    ").mean().T\n",
    "\n",
    "df_clusters"
   ]
  },
  {
   "cell_type": "code",
   "execution_count": 24,
   "metadata": {},
   "outputs": [],
   "source": [
    "dataset.to_csv('Data/result_segmentacion.csv')"
   ]
  }
 ],
 "metadata": {
  "kernelspec": {
   "display_name": ".venv",
   "language": "python",
   "name": "python3"
  },
  "language_info": {
   "codemirror_mode": {
    "name": "ipython",
    "version": 3
   },
   "file_extension": ".py",
   "mimetype": "text/x-python",
   "name": "python",
   "nbconvert_exporter": "python",
   "pygments_lexer": "ipython3",
   "version": "3.12.3"
  }
 },
 "nbformat": 4,
 "nbformat_minor": 4
}
